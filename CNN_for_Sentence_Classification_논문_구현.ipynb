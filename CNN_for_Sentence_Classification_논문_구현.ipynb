{
  "cells": [
    {
      "cell_type": "markdown",
      "id": "98206641-3e34-48ff-8331-01597f20676b",
      "metadata": {
        "id": "98206641-3e34-48ff-8331-01597f20676b"
      },
      "source": [
        "# CNN for Sentence Classification 논문 구현\n",
        "\n",
        "#### Git - Commit Message Convention\n",
        "\n",
        "* 제가 대략적으로 framework을 잡아놓은 것이니, 담당하시는 부분에 수정이 필요하시면 마크다운 양식만 유지한 채 수정해주시면 됩니다!\n",
        "* 작은 단위의 작업이 끝날 때 마다 git add, commit, push 해주시면 됩니다! (push하고 슬랙에 공유 부탁드려요! 화이팅!)\n",
        "\n",
        "* git commit message는 다음의 양식을 참고해주세요!\n",
        "    * 처음으로 코드 완료했을 때 git commit -m \"동사 명사\"\n",
        "    ```ex) git commit -m \"Fill and replace NaN values\"```\n",
        "    \n",
        "    * commit 했던 코드를 수정했을 때 git commit -m \"Update 수정한 내용\"\n",
        "    ```ex) git commit -m \"Update Word embedding\"```\n",
        "\n",
        "\n",
        "# 1. 데이터 load 및 EDA"
      ]
    },
    {
      "cell_type": "code",
      "source": [
        "from google.colab import drive\n",
        "drive.mount('/content/drive')"
      ],
      "metadata": {
        "colab": {
          "base_uri": "https://localhost:8080/"
        },
        "id": "vPH5clmMu0wg",
        "outputId": "57101891-0087-4d84-f27d-9570a4b46a1e"
      },
      "id": "vPH5clmMu0wg",
      "execution_count": null,
      "outputs": [
        {
          "output_type": "stream",
          "name": "stdout",
          "text": [
            "Mounted at /content/drive\n"
          ]
        }
      ]
    },
    {
      "cell_type": "markdown",
      "id": "93cedc75-0209-41ef-8a49-c72082488438",
      "metadata": {
        "id": "93cedc75-0209-41ef-8a49-c72082488438"
      },
      "source": [
        "## 1) 네이버 영화 리뷰 데이터 불러오기"
      ]
    },
    {
      "cell_type": "code",
      "execution_count": 138,
      "id": "11fa2558-9cec-4cd7-a44e-6c23587cfeaf",
      "metadata": {
        "id": "11fa2558-9cec-4cd7-a44e-6c23587cfeaf"
      },
      "outputs": [],
      "source": [
        "import pandas as pd\n",
        "import matplotlib.pyplot as plt"
      ]
    },
    {
      "cell_type": "code",
      "execution_count": 139,
      "id": "7834b971-bdd0-4b68-8c45-e8c1ff5f72b1",
      "metadata": {
        "id": "7834b971-bdd0-4b68-8c45-e8c1ff5f72b1"
      },
      "outputs": [],
      "source": [
        "train = pd.read_csv(\"/content/drive/MyDrive/CNN 공유폴더/ratings_train.txt\", sep='\\t')    #일단 제걸로 경로를 걸어놨습니다-옥영\n",
        "test = pd.read_csv(\"/content/drive/MyDrive/CNN 공유폴더/ratings_test.txt\", sep='\\t')"
      ]
    },
    {
      "cell_type": "code",
      "execution_count": null,
      "id": "e747db2e",
      "metadata": {
        "colab": {
          "base_uri": "https://localhost:8080/",
          "height": 206
        },
        "id": "e747db2e",
        "outputId": "3ff74020-7274-4f52-ca56-26ed53689e26"
      },
      "outputs": [
        {
          "output_type": "execute_result",
          "data": {
            "text/html": [
              "\n",
              "  <div id=\"df-c46845ef-bac5-4cac-94c0-cf62a84deaf3\">\n",
              "    <div class=\"colab-df-container\">\n",
              "      <div>\n",
              "<style scoped>\n",
              "    .dataframe tbody tr th:only-of-type {\n",
              "        vertical-align: middle;\n",
              "    }\n",
              "\n",
              "    .dataframe tbody tr th {\n",
              "        vertical-align: top;\n",
              "    }\n",
              "\n",
              "    .dataframe thead th {\n",
              "        text-align: right;\n",
              "    }\n",
              "</style>\n",
              "<table border=\"1\" class=\"dataframe\">\n",
              "  <thead>\n",
              "    <tr style=\"text-align: right;\">\n",
              "      <th></th>\n",
              "      <th>id</th>\n",
              "      <th>document</th>\n",
              "      <th>label</th>\n",
              "    </tr>\n",
              "  </thead>\n",
              "  <tbody>\n",
              "    <tr>\n",
              "      <th>0</th>\n",
              "      <td>9976970</td>\n",
              "      <td>아 더빙.. 진짜 짜증나네요 목소리</td>\n",
              "      <td>0</td>\n",
              "    </tr>\n",
              "    <tr>\n",
              "      <th>1</th>\n",
              "      <td>3819312</td>\n",
              "      <td>흠...포스터보고 초딩영화줄....오버연기조차 가볍지 않구나</td>\n",
              "      <td>1</td>\n",
              "    </tr>\n",
              "    <tr>\n",
              "      <th>2</th>\n",
              "      <td>10265843</td>\n",
              "      <td>너무재밓었다그래서보는것을추천한다</td>\n",
              "      <td>0</td>\n",
              "    </tr>\n",
              "    <tr>\n",
              "      <th>3</th>\n",
              "      <td>9045019</td>\n",
              "      <td>교도소 이야기구먼 ..솔직히 재미는 없다..평점 조정</td>\n",
              "      <td>0</td>\n",
              "    </tr>\n",
              "    <tr>\n",
              "      <th>4</th>\n",
              "      <td>6483659</td>\n",
              "      <td>사이몬페그의 익살스런 연기가 돋보였던 영화!스파이더맨에서 늙어보이기만 했던 커스틴 ...</td>\n",
              "      <td>1</td>\n",
              "    </tr>\n",
              "  </tbody>\n",
              "</table>\n",
              "</div>\n",
              "      <button class=\"colab-df-convert\" onclick=\"convertToInteractive('df-c46845ef-bac5-4cac-94c0-cf62a84deaf3')\"\n",
              "              title=\"Convert this dataframe to an interactive table.\"\n",
              "              style=\"display:none;\">\n",
              "        \n",
              "  <svg xmlns=\"http://www.w3.org/2000/svg\" height=\"24px\"viewBox=\"0 0 24 24\"\n",
              "       width=\"24px\">\n",
              "    <path d=\"M0 0h24v24H0V0z\" fill=\"none\"/>\n",
              "    <path d=\"M18.56 5.44l.94 2.06.94-2.06 2.06-.94-2.06-.94-.94-2.06-.94 2.06-2.06.94zm-11 1L8.5 8.5l.94-2.06 2.06-.94-2.06-.94L8.5 2.5l-.94 2.06-2.06.94zm10 10l.94 2.06.94-2.06 2.06-.94-2.06-.94-.94-2.06-.94 2.06-2.06.94z\"/><path d=\"M17.41 7.96l-1.37-1.37c-.4-.4-.92-.59-1.43-.59-.52 0-1.04.2-1.43.59L10.3 9.45l-7.72 7.72c-.78.78-.78 2.05 0 2.83L4 21.41c.39.39.9.59 1.41.59.51 0 1.02-.2 1.41-.59l7.78-7.78 2.81-2.81c.8-.78.8-2.07 0-2.86zM5.41 20L4 18.59l7.72-7.72 1.47 1.35L5.41 20z\"/>\n",
              "  </svg>\n",
              "      </button>\n",
              "      \n",
              "  <style>\n",
              "    .colab-df-container {\n",
              "      display:flex;\n",
              "      flex-wrap:wrap;\n",
              "      gap: 12px;\n",
              "    }\n",
              "\n",
              "    .colab-df-convert {\n",
              "      background-color: #E8F0FE;\n",
              "      border: none;\n",
              "      border-radius: 50%;\n",
              "      cursor: pointer;\n",
              "      display: none;\n",
              "      fill: #1967D2;\n",
              "      height: 32px;\n",
              "      padding: 0 0 0 0;\n",
              "      width: 32px;\n",
              "    }\n",
              "\n",
              "    .colab-df-convert:hover {\n",
              "      background-color: #E2EBFA;\n",
              "      box-shadow: 0px 1px 2px rgba(60, 64, 67, 0.3), 0px 1px 3px 1px rgba(60, 64, 67, 0.15);\n",
              "      fill: #174EA6;\n",
              "    }\n",
              "\n",
              "    [theme=dark] .colab-df-convert {\n",
              "      background-color: #3B4455;\n",
              "      fill: #D2E3FC;\n",
              "    }\n",
              "\n",
              "    [theme=dark] .colab-df-convert:hover {\n",
              "      background-color: #434B5C;\n",
              "      box-shadow: 0px 1px 3px 1px rgba(0, 0, 0, 0.15);\n",
              "      filter: drop-shadow(0px 1px 2px rgba(0, 0, 0, 0.3));\n",
              "      fill: #FFFFFF;\n",
              "    }\n",
              "  </style>\n",
              "\n",
              "      <script>\n",
              "        const buttonEl =\n",
              "          document.querySelector('#df-c46845ef-bac5-4cac-94c0-cf62a84deaf3 button.colab-df-convert');\n",
              "        buttonEl.style.display =\n",
              "          google.colab.kernel.accessAllowed ? 'block' : 'none';\n",
              "\n",
              "        async function convertToInteractive(key) {\n",
              "          const element = document.querySelector('#df-c46845ef-bac5-4cac-94c0-cf62a84deaf3');\n",
              "          const dataTable =\n",
              "            await google.colab.kernel.invokeFunction('convertToInteractive',\n",
              "                                                     [key], {});\n",
              "          if (!dataTable) return;\n",
              "\n",
              "          const docLinkHtml = 'Like what you see? Visit the ' +\n",
              "            '<a target=\"_blank\" href=https://colab.research.google.com/notebooks/data_table.ipynb>data table notebook</a>'\n",
              "            + ' to learn more about interactive tables.';\n",
              "          element.innerHTML = '';\n",
              "          dataTable['output_type'] = 'display_data';\n",
              "          await google.colab.output.renderOutput(dataTable, element);\n",
              "          const docLink = document.createElement('div');\n",
              "          docLink.innerHTML = docLinkHtml;\n",
              "          element.appendChild(docLink);\n",
              "        }\n",
              "      </script>\n",
              "    </div>\n",
              "  </div>\n",
              "  "
            ],
            "text/plain": [
              "         id                                           document  label\n",
              "0   9976970                                아 더빙.. 진짜 짜증나네요 목소리      0\n",
              "1   3819312                  흠...포스터보고 초딩영화줄....오버연기조차 가볍지 않구나      1\n",
              "2  10265843                                  너무재밓었다그래서보는것을추천한다      0\n",
              "3   9045019                      교도소 이야기구먼 ..솔직히 재미는 없다..평점 조정      0\n",
              "4   6483659  사이몬페그의 익살스런 연기가 돋보였던 영화!스파이더맨에서 늙어보이기만 했던 커스틴 ...      1"
            ]
          },
          "metadata": {},
          "execution_count": 19
        }
      ],
      "source": [
        "train.head()"
      ]
    },
    {
      "cell_type": "code",
      "execution_count": null,
      "id": "33668ea2",
      "metadata": {
        "colab": {
          "base_uri": "https://localhost:8080/"
        },
        "id": "33668ea2",
        "outputId": "eaa565ac-43d2-4195-9a13-f62fcd9976ac"
      },
      "outputs": [
        {
          "output_type": "stream",
          "name": "stdout",
          "text": [
            "<class 'pandas.core.frame.DataFrame'>\n",
            "RangeIndex: 150000 entries, 0 to 149999\n",
            "Data columns (total 3 columns):\n",
            " #   Column    Non-Null Count   Dtype \n",
            "---  ------    --------------   ----- \n",
            " 0   id        150000 non-null  int64 \n",
            " 1   document  149995 non-null  object\n",
            " 2   label     150000 non-null  int64 \n",
            "dtypes: int64(2), object(1)\n",
            "memory usage: 3.4+ MB\n"
          ]
        }
      ],
      "source": [
        "train.info()    #document에 null값 확인"
      ]
    },
    {
      "cell_type": "code",
      "execution_count": null,
      "id": "7d0643ed",
      "metadata": {
        "colab": {
          "base_uri": "https://localhost:8080/"
        },
        "id": "7d0643ed",
        "outputId": "3f078ce0-10c1-42a3-c1b5-d334734f3270"
      },
      "outputs": [
        {
          "output_type": "stream",
          "name": "stdout",
          "text": [
            "<class 'pandas.core.frame.DataFrame'>\n",
            "RangeIndex: 50000 entries, 0 to 49999\n",
            "Data columns (total 3 columns):\n",
            " #   Column    Non-Null Count  Dtype \n",
            "---  ------    --------------  ----- \n",
            " 0   id        50000 non-null  int64 \n",
            " 1   document  49997 non-null  object\n",
            " 2   label     50000 non-null  int64 \n",
            "dtypes: int64(2), object(1)\n",
            "memory usage: 1.1+ MB\n"
          ]
        }
      ],
      "source": [
        "test.info()    #document에 null값 확인"
      ]
    },
    {
      "cell_type": "code",
      "execution_count": null,
      "id": "35c875bd",
      "metadata": {
        "colab": {
          "base_uri": "https://localhost:8080/",
          "height": 206
        },
        "id": "35c875bd",
        "outputId": "6acf8f2b-c610-407f-965f-0caaa0a620ab"
      },
      "outputs": [
        {
          "output_type": "execute_result",
          "data": {
            "text/html": [
              "\n",
              "  <div id=\"df-bfb5007c-6e9f-4d27-9a02-dea3cf85dcec\">\n",
              "    <div class=\"colab-df-container\">\n",
              "      <div>\n",
              "<style scoped>\n",
              "    .dataframe tbody tr th:only-of-type {\n",
              "        vertical-align: middle;\n",
              "    }\n",
              "\n",
              "    .dataframe tbody tr th {\n",
              "        vertical-align: top;\n",
              "    }\n",
              "\n",
              "    .dataframe thead th {\n",
              "        text-align: right;\n",
              "    }\n",
              "</style>\n",
              "<table border=\"1\" class=\"dataframe\">\n",
              "  <thead>\n",
              "    <tr style=\"text-align: right;\">\n",
              "      <th></th>\n",
              "      <th>id</th>\n",
              "      <th>document</th>\n",
              "      <th>label</th>\n",
              "    </tr>\n",
              "  </thead>\n",
              "  <tbody>\n",
              "    <tr>\n",
              "      <th>25857</th>\n",
              "      <td>2172111</td>\n",
              "      <td>NaN</td>\n",
              "      <td>1</td>\n",
              "    </tr>\n",
              "    <tr>\n",
              "      <th>55737</th>\n",
              "      <td>6369843</td>\n",
              "      <td>NaN</td>\n",
              "      <td>1</td>\n",
              "    </tr>\n",
              "    <tr>\n",
              "      <th>110014</th>\n",
              "      <td>1034280</td>\n",
              "      <td>NaN</td>\n",
              "      <td>0</td>\n",
              "    </tr>\n",
              "    <tr>\n",
              "      <th>126782</th>\n",
              "      <td>5942978</td>\n",
              "      <td>NaN</td>\n",
              "      <td>0</td>\n",
              "    </tr>\n",
              "    <tr>\n",
              "      <th>140721</th>\n",
              "      <td>1034283</td>\n",
              "      <td>NaN</td>\n",
              "      <td>0</td>\n",
              "    </tr>\n",
              "  </tbody>\n",
              "</table>\n",
              "</div>\n",
              "      <button class=\"colab-df-convert\" onclick=\"convertToInteractive('df-bfb5007c-6e9f-4d27-9a02-dea3cf85dcec')\"\n",
              "              title=\"Convert this dataframe to an interactive table.\"\n",
              "              style=\"display:none;\">\n",
              "        \n",
              "  <svg xmlns=\"http://www.w3.org/2000/svg\" height=\"24px\"viewBox=\"0 0 24 24\"\n",
              "       width=\"24px\">\n",
              "    <path d=\"M0 0h24v24H0V0z\" fill=\"none\"/>\n",
              "    <path d=\"M18.56 5.44l.94 2.06.94-2.06 2.06-.94-2.06-.94-.94-2.06-.94 2.06-2.06.94zm-11 1L8.5 8.5l.94-2.06 2.06-.94-2.06-.94L8.5 2.5l-.94 2.06-2.06.94zm10 10l.94 2.06.94-2.06 2.06-.94-2.06-.94-.94-2.06-.94 2.06-2.06.94z\"/><path d=\"M17.41 7.96l-1.37-1.37c-.4-.4-.92-.59-1.43-.59-.52 0-1.04.2-1.43.59L10.3 9.45l-7.72 7.72c-.78.78-.78 2.05 0 2.83L4 21.41c.39.39.9.59 1.41.59.51 0 1.02-.2 1.41-.59l7.78-7.78 2.81-2.81c.8-.78.8-2.07 0-2.86zM5.41 20L4 18.59l7.72-7.72 1.47 1.35L5.41 20z\"/>\n",
              "  </svg>\n",
              "      </button>\n",
              "      \n",
              "  <style>\n",
              "    .colab-df-container {\n",
              "      display:flex;\n",
              "      flex-wrap:wrap;\n",
              "      gap: 12px;\n",
              "    }\n",
              "\n",
              "    .colab-df-convert {\n",
              "      background-color: #E8F0FE;\n",
              "      border: none;\n",
              "      border-radius: 50%;\n",
              "      cursor: pointer;\n",
              "      display: none;\n",
              "      fill: #1967D2;\n",
              "      height: 32px;\n",
              "      padding: 0 0 0 0;\n",
              "      width: 32px;\n",
              "    }\n",
              "\n",
              "    .colab-df-convert:hover {\n",
              "      background-color: #E2EBFA;\n",
              "      box-shadow: 0px 1px 2px rgba(60, 64, 67, 0.3), 0px 1px 3px 1px rgba(60, 64, 67, 0.15);\n",
              "      fill: #174EA6;\n",
              "    }\n",
              "\n",
              "    [theme=dark] .colab-df-convert {\n",
              "      background-color: #3B4455;\n",
              "      fill: #D2E3FC;\n",
              "    }\n",
              "\n",
              "    [theme=dark] .colab-df-convert:hover {\n",
              "      background-color: #434B5C;\n",
              "      box-shadow: 0px 1px 3px 1px rgba(0, 0, 0, 0.15);\n",
              "      filter: drop-shadow(0px 1px 2px rgba(0, 0, 0, 0.3));\n",
              "      fill: #FFFFFF;\n",
              "    }\n",
              "  </style>\n",
              "\n",
              "      <script>\n",
              "        const buttonEl =\n",
              "          document.querySelector('#df-bfb5007c-6e9f-4d27-9a02-dea3cf85dcec button.colab-df-convert');\n",
              "        buttonEl.style.display =\n",
              "          google.colab.kernel.accessAllowed ? 'block' : 'none';\n",
              "\n",
              "        async function convertToInteractive(key) {\n",
              "          const element = document.querySelector('#df-bfb5007c-6e9f-4d27-9a02-dea3cf85dcec');\n",
              "          const dataTable =\n",
              "            await google.colab.kernel.invokeFunction('convertToInteractive',\n",
              "                                                     [key], {});\n",
              "          if (!dataTable) return;\n",
              "\n",
              "          const docLinkHtml = 'Like what you see? Visit the ' +\n",
              "            '<a target=\"_blank\" href=https://colab.research.google.com/notebooks/data_table.ipynb>data table notebook</a>'\n",
              "            + ' to learn more about interactive tables.';\n",
              "          element.innerHTML = '';\n",
              "          dataTable['output_type'] = 'display_data';\n",
              "          await google.colab.output.renderOutput(dataTable, element);\n",
              "          const docLink = document.createElement('div');\n",
              "          docLink.innerHTML = docLinkHtml;\n",
              "          element.appendChild(docLink);\n",
              "        }\n",
              "      </script>\n",
              "    </div>\n",
              "  </div>\n",
              "  "
            ],
            "text/plain": [
              "             id document  label\n",
              "25857   2172111      NaN      1\n",
              "55737   6369843      NaN      1\n",
              "110014  1034280      NaN      0\n",
              "126782  5942978      NaN      0\n",
              "140721  1034283      NaN      0"
            ]
          },
          "metadata": {},
          "execution_count": 22
        }
      ],
      "source": [
        "train[train['document'].isnull()]     #갯수가 별로 없고 대체할 방법이 없으므로 결측치 제거"
      ]
    },
    {
      "cell_type": "code",
      "execution_count": 140,
      "id": "dc573d9f",
      "metadata": {
        "id": "dc573d9f"
      },
      "outputs": [],
      "source": [
        "## 결측치 제거\n",
        "train.dropna(inplace=True)\n",
        "test.dropna(inplace=True)"
      ]
    },
    {
      "cell_type": "markdown",
      "id": "d4dcd4cd-1fc7-4f2f-a609-5b538302d128",
      "metadata": {
        "tags": [],
        "id": "d4dcd4cd-1fc7-4f2f-a609-5b538302d128"
      },
      "source": [
        "## 2) Sentences, labels 생성\n",
        "\n",
        "* sentence는 tokenize하고 나중에 생성 ☆\n",
        "* label만 numpy 변경"
      ]
    },
    {
      "cell_type": "code",
      "execution_count": null,
      "id": "53279a06",
      "metadata": {
        "id": "53279a06"
      },
      "outputs": [],
      "source": [
        "# import numpy as np\n",
        "\n",
        "# train_labels = np.array(train.label)\n",
        "# test_labels = np.array(test.label)"
      ]
    },
    {
      "cell_type": "code",
      "source": [
        "len(test_labels)"
      ],
      "metadata": {
        "colab": {
          "base_uri": "https://localhost:8080/"
        },
        "id": "89VLfrShg4Dk",
        "outputId": "d052f6c0-4e4e-43af-bb1d-c67ce8659460"
      },
      "id": "89VLfrShg4Dk",
      "execution_count": null,
      "outputs": [
        {
          "output_type": "execute_result",
          "data": {
            "text/plain": [
              "49997"
            ]
          },
          "metadata": {},
          "execution_count": 71
        }
      ]
    },
    {
      "cell_type": "markdown",
      "id": "1756f22a-c9b0-496a-888f-06dfbd6bea49",
      "metadata": {
        "id": "1756f22a-c9b0-496a-888f-06dfbd6bea49"
      },
      "source": [
        "# 2. Data Preprocessing"
      ]
    },
    {
      "cell_type": "markdown",
      "source": [
        "### colab에서 konlpy, mecab 설치하기"
      ],
      "metadata": {
        "id": "WsEJLdZdCPmW"
      },
      "id": "WsEJLdZdCPmW"
    },
    {
      "cell_type": "code",
      "source": [
        "## mecab 설치\n",
        "\n",
        "# pip3 install konlpy \n",
        "# bash <(curl -s https://raw.githubusercontent.com/konlpy/konlpy/master/scripts/mecab.sh)"
      ],
      "metadata": {
        "id": "hQjWI0yEAlqg"
      },
      "id": "hQjWI0yEAlqg",
      "execution_count": null,
      "outputs": []
    },
    {
      "cell_type": "markdown",
      "id": "f6281bf7-fb7a-4b01-9ca9-79e4c6220e5f",
      "metadata": {
        "id": "f6281bf7-fb7a-4b01-9ca9-79e4c6220e5f"
      },
      "source": [
        "## 1) Tokenizer\n",
        "\n",
        "* 어절 단위\n",
        "* 형태소 단위 - Mecab 활용\n",
        "* Subword 단위"
      ]
    },
    {
      "cell_type": "code",
      "execution_count": 141,
      "id": "47e24b51",
      "metadata": {
        "colab": {
          "base_uri": "https://localhost:8080/",
          "height": 206
        },
        "id": "47e24b51",
        "outputId": "f853479c-688b-43b6-fb65-b1d7804f3b31"
      },
      "outputs": [
        {
          "output_type": "execute_result",
          "data": {
            "text/html": [
              "\n",
              "  <div id=\"df-3a60a1ff-70bc-4987-b720-344daad2425b\">\n",
              "    <div class=\"colab-df-container\">\n",
              "      <div>\n",
              "<style scoped>\n",
              "    .dataframe tbody tr th:only-of-type {\n",
              "        vertical-align: middle;\n",
              "    }\n",
              "\n",
              "    .dataframe tbody tr th {\n",
              "        vertical-align: top;\n",
              "    }\n",
              "\n",
              "    .dataframe thead th {\n",
              "        text-align: right;\n",
              "    }\n",
              "</style>\n",
              "<table border=\"1\" class=\"dataframe\">\n",
              "  <thead>\n",
              "    <tr style=\"text-align: right;\">\n",
              "      <th></th>\n",
              "      <th>id</th>\n",
              "      <th>document</th>\n",
              "      <th>label</th>\n",
              "    </tr>\n",
              "  </thead>\n",
              "  <tbody>\n",
              "    <tr>\n",
              "      <th>0</th>\n",
              "      <td>9976970</td>\n",
              "      <td>아 더빙 진짜 짜증나네요 목소리</td>\n",
              "      <td>0</td>\n",
              "    </tr>\n",
              "    <tr>\n",
              "      <th>1</th>\n",
              "      <td>3819312</td>\n",
              "      <td>흠포스터보고 초딩영화줄오버연기조차 가볍지 않구나</td>\n",
              "      <td>1</td>\n",
              "    </tr>\n",
              "    <tr>\n",
              "      <th>2</th>\n",
              "      <td>10265843</td>\n",
              "      <td>너무재밓었다그래서보는것을추천한다</td>\n",
              "      <td>0</td>\n",
              "    </tr>\n",
              "    <tr>\n",
              "      <th>3</th>\n",
              "      <td>9045019</td>\n",
              "      <td>교도소 이야기구먼 솔직히 재미는 없다평점 조정</td>\n",
              "      <td>0</td>\n",
              "    </tr>\n",
              "    <tr>\n",
              "      <th>4</th>\n",
              "      <td>6483659</td>\n",
              "      <td>사이몬페그의 익살스런 연기가 돋보였던 영화스파이더맨에서 늙어보이기만 했던 커스틴 던...</td>\n",
              "      <td>1</td>\n",
              "    </tr>\n",
              "  </tbody>\n",
              "</table>\n",
              "</div>\n",
              "      <button class=\"colab-df-convert\" onclick=\"convertToInteractive('df-3a60a1ff-70bc-4987-b720-344daad2425b')\"\n",
              "              title=\"Convert this dataframe to an interactive table.\"\n",
              "              style=\"display:none;\">\n",
              "        \n",
              "  <svg xmlns=\"http://www.w3.org/2000/svg\" height=\"24px\"viewBox=\"0 0 24 24\"\n",
              "       width=\"24px\">\n",
              "    <path d=\"M0 0h24v24H0V0z\" fill=\"none\"/>\n",
              "    <path d=\"M18.56 5.44l.94 2.06.94-2.06 2.06-.94-2.06-.94-.94-2.06-.94 2.06-2.06.94zm-11 1L8.5 8.5l.94-2.06 2.06-.94-2.06-.94L8.5 2.5l-.94 2.06-2.06.94zm10 10l.94 2.06.94-2.06 2.06-.94-2.06-.94-.94-2.06-.94 2.06-2.06.94z\"/><path d=\"M17.41 7.96l-1.37-1.37c-.4-.4-.92-.59-1.43-.59-.52 0-1.04.2-1.43.59L10.3 9.45l-7.72 7.72c-.78.78-.78 2.05 0 2.83L4 21.41c.39.39.9.59 1.41.59.51 0 1.02-.2 1.41-.59l7.78-7.78 2.81-2.81c.8-.78.8-2.07 0-2.86zM5.41 20L4 18.59l7.72-7.72 1.47 1.35L5.41 20z\"/>\n",
              "  </svg>\n",
              "      </button>\n",
              "      \n",
              "  <style>\n",
              "    .colab-df-container {\n",
              "      display:flex;\n",
              "      flex-wrap:wrap;\n",
              "      gap: 12px;\n",
              "    }\n",
              "\n",
              "    .colab-df-convert {\n",
              "      background-color: #E8F0FE;\n",
              "      border: none;\n",
              "      border-radius: 50%;\n",
              "      cursor: pointer;\n",
              "      display: none;\n",
              "      fill: #1967D2;\n",
              "      height: 32px;\n",
              "      padding: 0 0 0 0;\n",
              "      width: 32px;\n",
              "    }\n",
              "\n",
              "    .colab-df-convert:hover {\n",
              "      background-color: #E2EBFA;\n",
              "      box-shadow: 0px 1px 2px rgba(60, 64, 67, 0.3), 0px 1px 3px 1px rgba(60, 64, 67, 0.15);\n",
              "      fill: #174EA6;\n",
              "    }\n",
              "\n",
              "    [theme=dark] .colab-df-convert {\n",
              "      background-color: #3B4455;\n",
              "      fill: #D2E3FC;\n",
              "    }\n",
              "\n",
              "    [theme=dark] .colab-df-convert:hover {\n",
              "      background-color: #434B5C;\n",
              "      box-shadow: 0px 1px 3px 1px rgba(0, 0, 0, 0.15);\n",
              "      filter: drop-shadow(0px 1px 2px rgba(0, 0, 0, 0.3));\n",
              "      fill: #FFFFFF;\n",
              "    }\n",
              "  </style>\n",
              "\n",
              "      <script>\n",
              "        const buttonEl =\n",
              "          document.querySelector('#df-3a60a1ff-70bc-4987-b720-344daad2425b button.colab-df-convert');\n",
              "        buttonEl.style.display =\n",
              "          google.colab.kernel.accessAllowed ? 'block' : 'none';\n",
              "\n",
              "        async function convertToInteractive(key) {\n",
              "          const element = document.querySelector('#df-3a60a1ff-70bc-4987-b720-344daad2425b');\n",
              "          const dataTable =\n",
              "            await google.colab.kernel.invokeFunction('convertToInteractive',\n",
              "                                                     [key], {});\n",
              "          if (!dataTable) return;\n",
              "\n",
              "          const docLinkHtml = 'Like what you see? Visit the ' +\n",
              "            '<a target=\"_blank\" href=https://colab.research.google.com/notebooks/data_table.ipynb>data table notebook</a>'\n",
              "            + ' to learn more about interactive tables.';\n",
              "          element.innerHTML = '';\n",
              "          dataTable['output_type'] = 'display_data';\n",
              "          await google.colab.output.renderOutput(dataTable, element);\n",
              "          const docLink = document.createElement('div');\n",
              "          docLink.innerHTML = docLinkHtml;\n",
              "          element.appendChild(docLink);\n",
              "        }\n",
              "      </script>\n",
              "    </div>\n",
              "  </div>\n",
              "  "
            ],
            "text/plain": [
              "         id                                           document  label\n",
              "0   9976970                                  아 더빙 진짜 짜증나네요 목소리      0\n",
              "1   3819312                         흠포스터보고 초딩영화줄오버연기조차 가볍지 않구나      1\n",
              "2  10265843                                  너무재밓었다그래서보는것을추천한다      0\n",
              "3   9045019                          교도소 이야기구먼 솔직히 재미는 없다평점 조정      0\n",
              "4   6483659  사이몬페그의 익살스런 연기가 돋보였던 영화스파이더맨에서 늙어보이기만 했던 커스틴 던...      1"
            ]
          },
          "metadata": {},
          "execution_count": 141
        }
      ],
      "source": [
        "# 영어, 한글만 포함하고 나머지 제거\n",
        "import re\n",
        "\n",
        "def preprocess(text):\n",
        "  text = re.sub(r\"[^A-Za-zㄱ-ㅎㅏ-ㅣ가-힣 ]\",\"\", text) \n",
        "  return text\n",
        "\n",
        "train['document'] = train.document.apply(lambda x : preprocess(x))\n",
        "test['document'] = test.document.apply(lambda x : preprocess(x))\n",
        "\n",
        "train.head()"
      ]
    },
    {
      "cell_type": "code",
      "execution_count": 142,
      "id": "9d17c929-0889-4f20-82ec-9c521df9cae3",
      "metadata": {
        "id": "9d17c929-0889-4f20-82ec-9c521df9cae3"
      },
      "outputs": [],
      "source": [
        "# Mecab으로 형태소 분석, 불용어 제거\n",
        "from konlpy.tag import Mecab\n",
        "\n",
        "tokenizer = Mecab()\n",
        "stopwords = ['의','가','이','은','들','는','좀','잘','걍','과','도','를','으로','자','에','와','한','하다']   #korean_stopwords 보류\n",
        "\n",
        "train_tokens = []\n",
        "test_tokens = []\n",
        "train_drop_idx = []\n",
        "test_drop_idx = []\n",
        "\n",
        "for idx, sentence in enumerate(train['document']):\n",
        "    tokenized_sentence = tokenizer.morphs(sentence) \n",
        "    stopwords_removed_sentence = [word for word in tokenized_sentence if not word in stopwords]\n",
        "    if len(stopwords_removed_sentence) != 0:\n",
        "      train_tokens.append(stopwords_removed_sentence)\n",
        "    else:\n",
        "      train_drop_idx.append(idx)\n",
        "\n",
        "for idx, sentence in enumerate(test['document']):\n",
        "    tokenized_sentence = tokenizer.morphs(sentence) \n",
        "    stopwords_removed_sentence = [word for word in tokenized_sentence if not word in stopwords]\n",
        "    if len(stopwords_removed_sentence) != 0:\n",
        "      test_tokens.append(stopwords_removed_sentence)\n",
        "    else:\n",
        "      test_drop_idx.append(idx)"
      ]
    },
    {
      "cell_type": "code",
      "execution_count": null,
      "id": "c2cc1e9f-42e1-49d9-8bb9-1c239ea2a9cf",
      "metadata": {
        "id": "c2cc1e9f-42e1-49d9-8bb9-1c239ea2a9cf",
        "outputId": "e25e6db9-0c85-44e2-9cb3-7318d5c0ca2a",
        "colab": {
          "base_uri": "https://localhost:8080/"
        }
      },
      "outputs": [
        {
          "output_type": "execute_result",
          "data": {
            "text/plain": [
              "[['아', '더', '빙', '진짜', '짜증', '나', '네요', '목소리'],\n",
              " ['흠', '포스터', '보고', '초딩', '영화', '줄', '오버', '연기', '조차', '가볍', '지', '않', '구나'],\n",
              " ['너무', '재', '밓었다그래서보는것을추천한다'],\n",
              " ['교도소', '이야기', '구먼', '솔직히', '재미', '없', '다', '평점', '조정']]"
            ]
          },
          "metadata": {},
          "execution_count": 27
        }
      ],
      "source": [
        "train_tokens[:4]"
      ]
    },
    {
      "cell_type": "code",
      "execution_count": null,
      "id": "4bebc6b8",
      "metadata": {
        "id": "4bebc6b8",
        "outputId": "15acdf38-0dce-480f-f9e5-9c401cd53f4c",
        "colab": {
          "base_uri": "https://localhost:8080/"
        }
      },
      "outputs": [
        {
          "output_type": "execute_result",
          "data": {
            "text/plain": [
              "[['굳', 'ㅋ'],\n",
              " ['GDNTOPCLASSINTHECLUB'],\n",
              " ['뭐', '야', '평점', '나쁘', '진', '않', '지만', '점', '짜리', '더더욱', '아니', '잖아'],\n",
              " ['지루', '하', '지', '않', '은데', '완전', '막장', '임', '돈', '주', '고', '보', '기']]"
            ]
          },
          "metadata": {},
          "execution_count": 28
        }
      ],
      "source": [
        "test_tokens[:4]"
      ]
    },
    {
      "cell_type": "code",
      "source": [
        "## 길이 0인 리뷰 labels에서 제거\n",
        "\n",
        "labels_train = train['label']\n",
        "labels_test = test['label']\n",
        "\n",
        "labels_train.drop(train_drop_idx, inplace=True)\n",
        "labels_test.drop(test_drop_idx, inplace=True)"
      ],
      "metadata": {
        "id": "PtGmBbMYjcVq"
      },
      "id": "PtGmBbMYjcVq",
      "execution_count": 143,
      "outputs": []
    },
    {
      "cell_type": "code",
      "source": [
        "labels_train = np.array(labels_train)\n",
        "valid_labels = np.array(valid_labels)\n",
        "test_labels = np.array(test_labels)"
      ],
      "metadata": {
        "id": "VyBONkR5IRLd"
      },
      "id": "VyBONkR5IRLd",
      "execution_count": 246,
      "outputs": []
    },
    {
      "cell_type": "code",
      "source": [
        "len(labels_train), len(labels_test)"
      ],
      "metadata": {
        "colab": {
          "base_uri": "https://localhost:8080/"
        },
        "id": "aGkWR0sFht-E",
        "outputId": "b574cb2c-0323-4476-ae53-a18878d68321"
      },
      "id": "aGkWR0sFht-E",
      "execution_count": 144,
      "outputs": [
        {
          "output_type": "execute_result",
          "data": {
            "text/plain": [
              "(149598, 49863)"
            ]
          },
          "metadata": {},
          "execution_count": 144
        }
      ]
    },
    {
      "cell_type": "code",
      "source": [
        "len(train_tokens), len(test_tokens)"
      ],
      "metadata": {
        "colab": {
          "base_uri": "https://localhost:8080/"
        },
        "id": "HNhBce29gzdV",
        "outputId": "a2d7b092-7346-4836-a2b9-3d98d680cb67"
      },
      "id": "HNhBce29gzdV",
      "execution_count": 145,
      "outputs": [
        {
          "output_type": "execute_result",
          "data": {
            "text/plain": [
              "(149598, 49863)"
            ]
          },
          "metadata": {},
          "execution_count": 145
        }
      ]
    },
    {
      "cell_type": "markdown",
      "id": "e7ba4c35-9e1d-441f-b694-01523dd8d2ad",
      "metadata": {
        "id": "e7ba4c35-9e1d-441f-b694-01523dd8d2ad"
      },
      "source": [
        "## 2) 리뷰 데이터 EDA\n",
        "\n",
        "* 문장 histogram"
      ]
    },
    {
      "cell_type": "code",
      "execution_count": 146,
      "id": "c90e4025",
      "metadata": {
        "id": "c90e4025"
      },
      "outputs": [],
      "source": [
        "train_token_len = [len(tokens) for tokens in train_tokens]\n",
        "test_token_len = [len(tokens) for tokens in test_tokens]"
      ]
    },
    {
      "cell_type": "code",
      "execution_count": 147,
      "id": "2539bcb2",
      "metadata": {
        "id": "2539bcb2",
        "outputId": "136bc548-1123-4bbf-f586-c1a23bc7aeeb",
        "colab": {
          "base_uri": "https://localhost:8080/",
          "height": 265
        }
      },
      "outputs": [
        {
          "output_type": "display_data",
          "data": {
            "image/png": "[encoded data removed]",
            "text/plain": [
              "<Figure size 432x288 with 1 Axes>"
            ]
          },
          "metadata": {
            "needs_background": "light"
          }
        }
      ],
      "source": [
        "plt.hist(train_token_len, bins=80)\n",
        "plt.show()"
      ]
    },
    {
      "cell_type": "code",
      "execution_count": 148,
      "id": "f942393d",
      "metadata": {
        "id": "f942393d",
        "outputId": "9572f15d-790a-4a30-f1c3-7896a493bfd6",
        "colab": {
          "base_uri": "https://localhost:8080/"
        }
      },
      "outputs": [
        {
          "output_type": "execute_result",
          "data": {
            "text/plain": [
              "(83, 1)"
            ]
          },
          "metadata": {},
          "execution_count": 148
        }
      ],
      "source": [
        "max(train_token_len), min(train_token_len)"
      ]
    },
    {
      "cell_type": "code",
      "execution_count": 149,
      "id": "50d537d7",
      "metadata": {
        "id": "50d537d7",
        "outputId": "66a06b54-24da-4ebd-cd09-9b35732a6908",
        "colab": {
          "base_uri": "https://localhost:8080/"
        }
      },
      "outputs": [
        {
          "output_type": "execute_result",
          "data": {
            "text/plain": [
              "13.55445928421503"
            ]
          },
          "metadata": {},
          "execution_count": 149
        }
      ],
      "source": [
        "sum(train_token_len)/len(train_token_len)"
      ]
    },
    {
      "cell_type": "code",
      "execution_count": 150,
      "id": "586ebfa1",
      "metadata": {
        "id": "586ebfa1"
      },
      "outputs": [],
      "source": [
        "## max_length 길이 정하기\n",
        "max_length = 40"
      ]
    },
    {
      "cell_type": "markdown",
      "id": "d780eb52-5f9c-40a6-8a34-6cb685d3c428",
      "metadata": {
        "id": "d780eb52-5f9c-40a6-8a34-6cb685d3c428"
      },
      "source": [
        "## 3) Word Vectorize\n",
        "\n",
        "* word embedding : 문장들을 word vector 형태로 변환\n",
        "    * 윗단에서 tokenizer output을 '문장' 형태라고 가정하고 코드 작업\n",
        "    1. 문장을 토큰으로 쪼갠다\n",
        "    2. 쪼개진 토큰을 가장 긴 문장에 맞춰 패딩한다\n",
        "    3. 패딩이 마친 토큰들을 word vector로 변환하다\n",
        "* oov, padding, truncating 확인"
      ]
    },
    {
      "cell_type": "code",
      "execution_count": null,
      "id": "320cc1af",
      "metadata": {
        "id": "320cc1af"
      },
      "outputs": [],
      "source": [
        "# !python -m pip install tensorflow==2.3\n",
        "# !python -m pip install --upgrade pip"
      ]
    },
    {
      "cell_type": "code",
      "execution_count": 151,
      "id": "36ab7e4a",
      "metadata": {
        "id": "36ab7e4a"
      },
      "outputs": [],
      "source": [
        "train_sentences = [\" \".join(tokens) for tokens in train_tokens]\n",
        "test_sentences = [\" \".join(tokens) for tokens in test_tokens]"
      ]
    },
    {
      "cell_type": "code",
      "execution_count": 152,
      "id": "7c48ec2b",
      "metadata": {
        "id": "7c48ec2b"
      },
      "outputs": [],
      "source": [
        "from tensorflow.keras.preprocessing.text import Tokenizer\n",
        "from tensorflow.keras.preprocessing.sequence import pad_sequences"
      ]
    },
    {
      "cell_type": "code",
      "execution_count": 155,
      "id": "deeb1ca2-81d0-49e7-81f5-89cc899a4cf8",
      "metadata": {
        "id": "deeb1ca2-81d0-49e7-81f5-89cc899a4cf8"
      },
      "outputs": [],
      "source": [
        "## vocabulary, sequences 생성 및 padding 함수\n",
        "\n",
        "def word_vectorize(sentences, max_length, oov_tok='<oov>',trunc_type='post'):\n",
        "\n",
        "    tokenizer = Tokenizer(oov_token=\"<oov>\")    #Tokenizer 객체 생성\n",
        "    tokenizer.fit_on_texts(sentences)    #train sentences 입력\n",
        "    word_index = tokenizer.word_index           #word : index 사전(vocab) 생성\n",
        "    sequences = tokenizer.texts_to_sequences(sentences)     #시퀀스 생성\n",
        "    padded = pad_sequences(sequences, maxlen=max_length, padding=trunc_type, truncating=trunc_type)   #padding, truncating\n",
        "\n",
        "    return word_index, sequences, padded"
      ]
    },
    {
      "cell_type": "code",
      "execution_count": 156,
      "id": "141b5e52",
      "metadata": {
        "id": "141b5e52"
      },
      "outputs": [],
      "source": [
        "word_index, sequences, padded = word_vectorize(train_sentences, max_length)\n",
        "word_index_test, sequences_test, padded_test = word_vectorize(test_sentences, max_length)"
      ]
    },
    {
      "cell_type": "code",
      "source": [
        "len(vocabulary)"
      ],
      "metadata": {
        "colab": {
          "base_uri": "https://localhost:8080/"
        },
        "id": "UOQ8RMiFxwvN",
        "outputId": "09aba042-b7fc-479c-b142-22d59385d113"
      },
      "id": "UOQ8RMiFxwvN",
      "execution_count": 157,
      "outputs": [
        {
          "output_type": "execute_result",
          "data": {
            "text/plain": [
              "52170"
            ]
          },
          "metadata": {},
          "execution_count": 157
        }
      ]
    },
    {
      "cell_type": "code",
      "source": [
        "len(word_index), len(sequences)"
      ],
      "metadata": {
        "colab": {
          "base_uri": "https://localhost:8080/"
        },
        "id": "lbv-9a-sklp6",
        "outputId": "cb33820d-8d69-4667-f968-0f1e1d3eba09"
      },
      "id": "lbv-9a-sklp6",
      "execution_count": null,
      "outputs": [
        {
          "output_type": "execute_result",
          "data": {
            "text/plain": [
              "(52170, 149598, 149598)"
            ]
          },
          "metadata": {},
          "execution_count": 108
        }
      ]
    },
    {
      "cell_type": "code",
      "source": [
        "len(word_index_test), len(sequences_test)"
      ],
      "metadata": {
        "colab": {
          "base_uri": "https://localhost:8080/"
        },
        "id": "yM_Nt_9qgO0l",
        "outputId": "feacc445-043c-4e45-e4fd-5c2faf7f52c3"
      },
      "id": "yM_Nt_9qgO0l",
      "execution_count": null,
      "outputs": [
        {
          "output_type": "execute_result",
          "data": {
            "text/plain": [
              "(31246, 49863, 49863)"
            ]
          },
          "metadata": {},
          "execution_count": 109
        }
      ]
    },
    {
      "cell_type": "code",
      "execution_count": 158,
      "id": "c1df9eb7",
      "metadata": {
        "id": "c1df9eb7"
      },
      "outputs": [],
      "source": [
        "index_word = {value : key for (key, value) in word_index.items()}    #index : word 사전\n",
        "\n",
        "## 시퀀스 decoding 함수\n",
        "def decode_review(text):\n",
        "  return \" \".join([index_word.get(i, '?') for i in text])"
      ]
    },
    {
      "cell_type": "code",
      "execution_count": null,
      "id": "08ea15d3",
      "metadata": {
        "id": "08ea15d3",
        "outputId": "8e07f095-b796-4dfa-a778-34f1d955287f",
        "colab": {
          "base_uri": "https://localhost:8080/"
        }
      },
      "outputs": [
        {
          "output_type": "execute_result",
          "data": {
            "text/plain": [
              "[26, 65, 912, 31, 214, 13, 27, 705]"
            ]
          },
          "metadata": {},
          "execution_count": 112
        }
      ],
      "source": [
        "sequences[0]    # 첫 번째 시퀀스 확인"
      ]
    },
    {
      "cell_type": "code",
      "execution_count": null,
      "id": "3438daf0",
      "metadata": {
        "id": "3438daf0",
        "outputId": "7c43561a-4e01-4262-baa8-007422c9e5db",
        "colab": {
          "base_uri": "https://localhost:8080/",
          "height": 35
        }
      },
      "outputs": [
        {
          "output_type": "execute_result",
          "data": {
            "application/vnd.google.colaboratory.intrinsic+json": {
              "type": "string"
            },
            "text/plain": [
              "'아 더 빙 진짜 짜증 나 네요 목소리 ? ? ? ? ? ? ? ? ? ? ? ? ? ? ? ? ? ? ? ? ? ? ? ? ? ? ? ? ? ? ? ?'"
            ]
          },
          "metadata": {},
          "execution_count": 113
        }
      ],
      "source": [
        "decode_review(padded[0])    # padded 된 시퀀스 -> decode해서 확인"
      ]
    },
    {
      "cell_type": "markdown",
      "id": "d76a76e5",
      "metadata": {
        "id": "d76a76e5"
      },
      "source": [
        "## 4) FastText pre-trained model 불러오기\n",
        "\n",
        "* pre-trained model : https://github.com/Kyubyong/wordvectors\n",
        "    * korean fasttext file download 후 **ko.bin**(word vector + model) 파일 로드\n",
        "    * gensim.models.fasttest의 load_facebook_model() 메소드는 로컬에서 돌아가지만, colab에서는 지원하지 않음\n",
        "    * **colab에서는 gensim.models.fasttest.FastText의 load_fasttext_format() 메소드를 사용해야함!**\n",
        "\n",
        "* (참고) facebook에서 제공하는 기본 pre-trained 모델 (성능이 별로 좋지 않다고 함) : https://fasttext.cc/docs/en/crawl-vectors.html"
      ]
    },
    {
      "cell_type": "code",
      "execution_count": null,
      "id": "570aa358-e4ec-4292-89d2-922247f7bbe8",
      "metadata": {
        "id": "570aa358-e4ec-4292-89d2-922247f7bbe8"
      },
      "outputs": [],
      "source": [
        "## 1차시도 - 로컬 환경에서는 load_facebook_model() 함수를 사용가능!\n",
        "\n",
        "# import datetime\n",
        "# from gensim.models import fasttext\n",
        "\n",
        "# print(f\"Load fasttext START at {datetime.datetime.now()}\")\n",
        "# model = fasttext.load_facebook_model(\"./ko.bin\")\n",
        "# print(f\"Load fasttext   END at {datetime.datetime.now()}\")"
      ]
    },
    {
      "cell_type": "code",
      "source": [
        "## 모델 가져오기\n",
        "\n",
        "# import datetime\n",
        "# from gensim.models.fasttext import FastText\n",
        "\n",
        "# print(f\"Load fasttext START at {datetime.datetime.now()}\")\n",
        "# model = FastText.load_fasttext_format(\"/content/drive/MyDrive/CNN 공유폴더/ko.bin\")    #일단 제걸로 경로 걸어놨습니다-옥영\n",
        "# print(f\"Load fasttext   END at {datetime.datetime.now()}\")"
      ],
      "metadata": {
        "colab": {
          "base_uri": "https://localhost:8080/"
        },
        "id": "-TjScVAxKIcH",
        "outputId": "b86d7ac3-77d8-48b7-fe02-45c572eeebd6"
      },
      "id": "-TjScVAxKIcH",
      "execution_count": null,
      "outputs": [
        {
          "output_type": "stream",
          "name": "stdout",
          "text": [
            "Load fasttext START at 2022-03-10 04:58:44.959026\n",
            "Load fasttext   END at 2022-03-10 04:58:49.329630\n"
          ]
        }
      ]
    },
    {
      "cell_type": "code",
      "execution_count": null,
      "id": "3f2f6a13-31c8-4637-9e95-18d89ab8e5df",
      "metadata": {
        "id": "3f2f6a13-31c8-4637-9e95-18d89ab8e5df",
        "outputId": "aeb15fbb-2172-47c1-dd3e-0ecce490503e",
        "colab": {
          "base_uri": "https://localhost:8080/"
        }
      },
      "outputs": [
        {
          "output_type": "stream",
          "name": "stdout",
          "text": [
            "[('엄마', 0.55759197473526), ('교실', 0.5458134412765503), ('학교의', 0.525463879108429), ('상냥', 0.5112130045890808), ('쿈', 0.5072376728057861), ('아빠', 0.5071090459823608), ('레슨', 0.5016893744468689), ('담임', 0.49494361877441406), ('교장', 0.488463819026947), ('부모님', 0.48817840218544006)]\n"
          ]
        }
      ],
      "source": [
        "# print(model.wv.most_similar('선생님'))"
      ]
    },
    {
      "cell_type": "code",
      "source": [
        "## 단어 벡터 가져오기\n",
        "\n",
        "import datetime\n",
        "from gensim.models.keyedvectors import KeyedVectors\n",
        "\n",
        "print(f\"Load fasttext START at {datetime.datetime.now()}\")\n",
        "fasttext = KeyedVectors.load_word2vec_format(\"/content/drive/MyDrive/CNN 공유폴더/ko.vec\")    #일단 제걸로 경로 걸어놨습니다-옥영\n",
        "print(f\"Load fasttext   END at {datetime.datetime.now()}\")"
      ],
      "metadata": {
        "colab": {
          "base_uri": "https://localhost:8080/"
        },
        "id": "KUSoI3kkVZla",
        "outputId": "670d9df5-b5f0-4988-a2cb-1051038d7e2a"
      },
      "id": "KUSoI3kkVZla",
      "execution_count": 159,
      "outputs": [
        {
          "output_type": "stream",
          "name": "stdout",
          "text": [
            "Load fasttext START at 2022-03-10 09:04:12.583069\n",
            "Load fasttext   END at 2022-03-10 09:04:16.281949\n"
          ]
        }
      ]
    },
    {
      "cell_type": "code",
      "source": [
        "## 확인\n",
        "\n",
        "print(f\"Type of model: {type(model)}\")\n",
        "print(model.most_similar('선생님'))\n",
        "print(model.similarity('학교', '학생'))"
      ],
      "metadata": {
        "colab": {
          "base_uri": "https://localhost:8080/"
        },
        "id": "8H66IC2oVZcQ",
        "outputId": "9e3f9791-d757-4ee7-9eaf-2f07cf15ce81"
      },
      "id": "8H66IC2oVZcQ",
      "execution_count": 160,
      "outputs": [
        {
          "output_type": "stream",
          "name": "stdout",
          "text": [
            "Type of model: <class 'gensim.models.keyedvectors.Word2VecKeyedVectors'>\n",
            "[('선생', 0.5959742069244385), ('친구', 0.5727324485778809), ('엄마', 0.5673927068710327), ('교실', 0.551629900932312), ('학년', 0.5418113470077515), ('학교의', 0.5392658710479736), ('깡', 0.5327038168907166), ('교장', 0.5243597030639648), ('여학생', 0.5235006809234619), ('교사', 0.5217379331588745)]\n",
            "0.6089581\n"
          ]
        }
      ]
    },
    {
      "cell_type": "code",
      "source": [
        "## word vocabulary list 생성\n",
        "\n",
        "vocab_size = len(vocabulary)     #52170\n",
        "embedding_matrix = np.zeros((vocab_size, 200))\n",
        "vocabulary = list(word_index.keys())"
      ],
      "metadata": {
        "id": "d9Zyj-D-2axk"
      },
      "id": "d9Zyj-D-2axk",
      "execution_count": 161,
      "outputs": []
    },
    {
      "cell_type": "code",
      "source": [
        "for i, word in enumerate(vocabulary): \n",
        "    if word in fasttext: \n",
        "        embedding_vector = fasttext[word] \n",
        "        embedding_matrix[i] = embedding_vector "
      ],
      "metadata": {
        "id": "NRFmt0ro2aqZ"
      },
      "id": "NRFmt0ro2aqZ",
      "execution_count": 162,
      "outputs": []
    },
    {
      "cell_type": "code",
      "source": [
        "embedding_matrix.shape"
      ],
      "metadata": {
        "id": "B1FV7Mqx2aiQ",
        "colab": {
          "base_uri": "https://localhost:8080/"
        },
        "outputId": "fb2e6be9-4728-4145-af7a-36924cf2b3bd"
      },
      "id": "B1FV7Mqx2aiQ",
      "execution_count": 163,
      "outputs": [
        {
          "output_type": "execute_result",
          "data": {
            "text/plain": [
              "(52170, 200)"
            ]
          },
          "metadata": {},
          "execution_count": 163
        }
      ]
    },
    {
      "cell_type": "code",
      "source": [
        "embed_dim = len(embedding_matrix[1])\n",
        "embed_dim"
      ],
      "metadata": {
        "colab": {
          "base_uri": "https://localhost:8080/"
        },
        "id": "ByKO0qTP4wXH",
        "outputId": "29c4ce5f-782a-4386-8472-bc5c41bb98ee"
      },
      "id": "ByKO0qTP4wXH",
      "execution_count": 164,
      "outputs": [
        {
          "output_type": "execute_result",
          "data": {
            "text/plain": [
              "200"
            ]
          },
          "metadata": {},
          "execution_count": 164
        }
      ]
    },
    {
      "cell_type": "markdown",
      "id": "45c19b7e-00b5-43d7-9c02-bbc1de8d17a1",
      "metadata": {
        "id": "45c19b7e-00b5-43d7-9c02-bbc1de8d17a1"
      },
      "source": [
        "## 5) Valid, Test set 생성\n",
        "\n",
        "* valid : test = 0.8 : 0.2"
      ]
    },
    {
      "cell_type": "code",
      "execution_count": 205,
      "id": "3f646841-1049-4d47-be6a-e705adfd54e6",
      "metadata": {
        "id": "3f646841-1049-4d47-be6a-e705adfd54e6"
      },
      "outputs": [],
      "source": [
        "from sklearn.model_selection import train_test_split\n",
        "\n",
        "valid_padded, test_padded, valid_labels, test_labels = train_test_split(padded_test, labels_test, test_size=0.2, shuffle=True)"
      ]
    },
    {
      "cell_type": "code",
      "execution_count": 206,
      "id": "ee662e32-fe98-4e9b-bf20-ecd6d282d347",
      "metadata": {
        "id": "ee662e32-fe98-4e9b-bf20-ecd6d282d347",
        "colab": {
          "base_uri": "https://localhost:8080/"
        },
        "outputId": "815d0c25-7c0c-4cd8-95c2-7823550b7b05"
      },
      "outputs": [
        {
          "output_type": "execute_result",
          "data": {
            "text/plain": [
              "(39890, 9973)"
            ]
          },
          "metadata": {},
          "execution_count": 206
        }
      ],
      "source": [
        "len(valid_padded), len(test_padded)"
      ]
    },
    {
      "cell_type": "markdown",
      "id": "f58a53ec-84c4-457c-85e2-9a8e90eaf583",
      "metadata": {
        "id": "f58a53ec-84c4-457c-85e2-9a8e90eaf583"
      },
      "source": [
        "# 3. Convolutional Neural Networks Modeling"
      ]
    },
    {
      "cell_type": "markdown",
      "id": "0c313698-11ec-4c04-a93b-76c553fa2fe5",
      "metadata": {
        "id": "0c313698-11ec-4c04-a93b-76c553fa2fe5"
      },
      "source": [
        "## 1) 기본 Model 생성\n",
        "\n",
        "* Check points\n",
        "* padding, initializer\n",
        "* activation function\n",
        "* Dropout\n",
        "* Batch Normalization\n",
        "* optimizer"
      ]
    },
    {
      "cell_type": "code",
      "execution_count": null,
      "id": "0f060a89-c496-4543-a83c-2beb31467887",
      "metadata": {
        "id": "0f060a89-c496-4543-a83c-2beb31467887"
      },
      "outputs": [],
      "source": [
        "## 하은 - 참고코드\n",
        "\n",
        "# conv_blocks = []\n",
        "# for size in filter_sizes:\n",
        "#     conv = keras.layers.Conv1D(filters=num_filters, kernel_size=size, padding=\"valid\",\n",
        "#                          activation=\"relu\", strides=1)(z)\n",
        "#     conv = keras.layers.MaxPooling1D(pool_size=2)(conv)\n",
        "#     conv = keras.layers.Flatten()(conv)\n",
        "#     conv_blocks.append(conv)\n",
        "\n",
        "# z = keras.layers.Concatenate()(conv_blocks)\n",
        "# z = keras.layers.Dropout(dropout)(z)\n",
        "# z = keras.layers.Dense(hidden_dims, activation=\"relu\")(z)\n",
        "# model_output = keras.layers.Dense(1, activation=\"sigmoid\")(z)\n",
        "\n",
        "# model = keras.Model(model_input, model_output)\n",
        "# model.compile(loss='binary_crossentropy', optimizer='adam', metrics=['accuracy'])"
      ]
    },
    {
      "cell_type": "code",
      "execution_count": null,
      "id": "ce441a6b-5006-4213-97ba-75a78980ca3d",
      "metadata": {
        "id": "ce441a6b-5006-4213-97ba-75a78980ca3d"
      },
      "outputs": [],
      "source": [
        "## 실습 버전 - 참고\n",
        "\n",
        "# Convolution + Batch Normalization + Relu\n",
        "# class ConvBNRelu(Model):\n",
        "#   def __init__(self, filters, kernel_size=(3, 3), strides=(1, 1), padding='same'):\n",
        "#     super(ConvBNRelu, self).__init__()\n",
        "#     self.conv = Conv2D(filters=filters, kernel_size=kernel_size, strides=strides,\n",
        "#                         padding=padding, kernel_initializer='glorot_normal')\n",
        "\n",
        "#     self.batchnorm = BatchNormalization()\n",
        "\n",
        "#   def call(self, inputs, training=False):\n",
        "#     layer = self.conv(inputs)\n",
        "#     layer = self.batchnorm(layer)\n",
        "#     layer = tf.nn.relu(layer)\n",
        "\n",
        "#     return layer\n",
        "\n",
        "# # Dense layer + Normalization + Relu\n",
        "# class DenseBNRelu(Model):\n",
        "#   def __init__(self, units):\n",
        "#     # units는 output 개수\n",
        "#     super(DenseBNRelu, self).__init__()\n",
        "#     self.dense = Dense(units=units, kernel_initializer='glorot_normal')\n",
        "#     self.batchnorm = BatchNormalization()\n",
        "\n",
        "#   def call(self, inputs, training=False):\n",
        "#     layer = self.dense(inputs)\n",
        "#     layer = self.batchnorm(layer)\n",
        "#     layer = tf.nn.relu(layer)\n",
        "\n",
        "#     return layer\n",
        "\n",
        "\n",
        "# # Sentences Classification Model\n",
        "# class SentClassificationModel(Model):\n",
        "#   def __init__(self):\n",
        "#     super(SentClassificationModel, self).__init__()\n",
        "    \n",
        "#     self.conv1 = ConvBNRelu(filters=32, kernel_size=(3, 3), padding='valid')\n",
        "#     self.pool1 = MaxPool2D()\n",
        "#     self.conv2 = ConvBNRelu(filters=64, kernel_size=(3, 3), padding='valid')\n",
        "#     self.pool2 = MaxPool2D()\n",
        "#     self.conv3 = ConvBNRelu(filters=64, kernel_size=(3, 3), padding='valid')\n",
        "#     self.flat = Flatten()\n",
        "#     self.dense4 = DenseBNRelu(units=64)\n",
        "#     self.drop = Dropout(0.5)      #Bernnoulli 분포로 0.5% dropout!\n",
        "#     self.outputs = Dense(10, activation='softmax')\n",
        "\n",
        "#   def call(self, inputs, training=False):\n",
        "#     net = self.conv1(inputs)\n",
        "#     net = self.pool1(net)\n",
        "#     net = self.conv2(net)\n",
        "#     net = self.pool2(net)\n",
        "#     net = self.conv3(net)\n",
        "#     net = self.flat(net)\n",
        "#     net = self.dense4(net)\n",
        "#     net = self.drop(net)\n",
        "#     net = self.outputs(net)\n",
        "\n",
        "#     return net"
      ]
    },
    {
      "cell_type": "code",
      "source": [
        "import tensorflow as tf\n",
        "from tensorflow.keras.models import Model\n",
        "from tensorflow.keras.layers import Input, Embedding, Conv1D, MaxPool1D, Flatten, Dense, Dropout"
      ],
      "metadata": {
        "id": "8xG7AOBcmrsa"
      },
      "id": "8xG7AOBcmrsa",
      "execution_count": 168,
      "outputs": []
    },
    {
      "cell_type": "code",
      "source": [
        "## 논문 버전\n",
        "\n",
        "# Sentences Classification Model\n",
        "\n",
        "class ConvMultiMap(Model):\n",
        "  def __init__(self, embedding_matrix, inputs, kernel_size, trainable, padding='same'):\n",
        "    super(ConvMultiMap, self).__init__()\n",
        "    self.embed = Embedding(vocab_size, embed_dim,\n",
        "          weights=[embedding_matrix], input_length=max_length, trainable=trainable)   #trainable=False => CNN-static 모델\n",
        "    self.conv1 = Conv1D(filters=16, kernel_size=kernel_size, activation='relu', padding=padding)\n",
        "    self.pool1 = MaxPool1D()\n",
        "    self.conv2 = Conv1D(filters=32, kernel_size=kernel_size, activation='relu', padding=padding)\n",
        "    self.pool2 = MaxPool1D()\n",
        "    self.conv3 = Conv1D(filters=64, kernel_size=kernel_size, activation='relu', padding=padding)\n",
        "\n",
        "  def call(self, embedding_matrix, inputs, kernel_size, training=False):\n",
        "    net = self.embed(embedding_matrix)\n",
        "    net = self.conv1(inputs)\n",
        "    net = self.pool1(net)\n",
        "    net = self.conv2(net)\n",
        "    net = self.pool2(net)\n",
        "    net = self.conv3(net)\n",
        "\n",
        "    return net\n",
        "\n",
        "\n",
        "class Denselayer(Model):\n",
        "  def __init__(self, net):\n",
        "    super(Denselayer, self).__init__()\n",
        "    self.dense4 = Dense(units=128, activation='relu')\n",
        "    self.drop = Dropout(0.5)      #Bernnoulli 분포로 0.5% dropout!\n",
        "    self.outputs = Dense(units=1, activation='softmax')\n",
        "\n",
        "  def call(self, net):\n",
        "    net = self.dense4(net)\n",
        "    net = self.drop(net)\n",
        "    net = self.outputs(net)\n",
        "\n",
        "    return net\n"
      ],
      "metadata": {
        "id": "amAGHOBKvIVK"
      },
      "id": "amAGHOBKvIVK",
      "execution_count": 232,
      "outputs": []
    },
    {
      "cell_type": "code",
      "source": [
        "## 파라미터 정의\n",
        "\n",
        "kernel_size = [3, 4, 5]\n",
        "batch_size = 50\n",
        "inputs = padded"
      ],
      "metadata": {
        "id": "gKNDZ76krF7I"
      },
      "id": "gKNDZ76krF7I",
      "execution_count": 207,
      "outputs": []
    },
    {
      "cell_type": "code",
      "source": [
        "trainable = False    #CNN-static"
      ],
      "metadata": {
        "id": "Agc_WpngOGt3"
      },
      "id": "Agc_WpngOGt3",
      "execution_count": null,
      "outputs": []
    },
    {
      "cell_type": "code",
      "source": [
        "trainable = True     #CNN-non-static"
      ],
      "metadata": {
        "id": "4gKsuii9ODYb"
      },
      "id": "4gKsuii9ODYb",
      "execution_count": 233,
      "outputs": []
    },
    {
      "cell_type": "code",
      "source": [
        "conv_blocks = []\n",
        "for size in kernel_size:\n",
        "  model = ConvMultiMap(embedding_matrix=embedding_matrix, inputs=inputs, kernel_size=size, trainable=trainable)\n",
        "  conv_blocks.append(model)\n",
        "\n",
        "concat = tf.keras.layers.Concatenate(conv_blocks)\n",
        "\n",
        "model = Denselayer(concat)"
      ],
      "metadata": {
        "id": "Fzf7gNXx-cYW"
      },
      "id": "Fzf7gNXx-cYW",
      "execution_count": 242,
      "outputs": []
    },
    {
      "cell_type": "code",
      "execution_count": 243,
      "id": "0a16814d-19f1-49ce-b49a-d64cddc17a2b",
      "metadata": {
        "id": "0a16814d-19f1-49ce-b49a-d64cddc17a2b",
        "colab": {
          "base_uri": "https://localhost:8080/"
        },
        "outputId": "03cd1496-c26c-4d98-f2d6-513e2a41b145"
      },
      "outputs": [
        {
          "output_type": "stream",
          "name": "stdout",
          "text": [
            "Model: \"denselayer_8\"\n",
            "_________________________________________________________________\n",
            " Layer (type)                Output Shape              Param #   \n",
            "=================================================================\n",
            " dense_16 (Dense)            multiple                  5248      \n",
            "                                                                 \n",
            " dropout_8 (Dropout)         multiple                  0         \n",
            "                                                                 \n",
            " dense_17 (Dense)            multiple                  129       \n",
            "                                                                 \n",
            "=================================================================\n",
            "Total params: 5,377\n",
            "Trainable params: 5,377\n",
            "Non-trainable params: 0\n",
            "_________________________________________________________________\n"
          ]
        }
      ],
      "source": [
        "## 모델 생성\n",
        "input_size = (max_length, )     #train_sequences\n",
        "model(Input(shape=input_size))     #input shape 지정?!\n",
        "model.summary()"
      ]
    },
    {
      "cell_type": "markdown",
      "id": "ca4dcd76-0455-41ba-bb87-80bdf6967205",
      "metadata": {
        "tags": [],
        "id": "ca4dcd76-0455-41ba-bb87-80bdf6967205"
      },
      "source": [
        "## 2) Model 저장, Callback 설정"
      ]
    },
    {
      "cell_type": "code",
      "execution_count": 244,
      "id": "f9057011-7b65-4947-8b98-dba32a7ad3bd",
      "metadata": {
        "id": "f9057011-7b65-4947-8b98-dba32a7ad3bd"
      },
      "outputs": [],
      "source": [
        "from tensorflow.keras.callbacks import ModelCheckpoint, EarlyStopping\n",
        "\n",
        "## 모델 weights 저장\n",
        "MODEL_SAVE_FOLDER = '/content/drive/MyDrive/Models/'\n",
        "model_path = f\"{MODEL_SAVE_FOLDER}CNN-{{epoch:d}}-{{val_loss:.5f}}-{{val_accuracy:.5f}}.hdf5\"\n",
        "\n",
        "## checkpoint 설정\n",
        "cb_checkpoint = ModelCheckpoint(filepath=model_path,\n",
        "                                monitor='val_accuracy',\n",
        "                                save_weights_only=True,     #weights들만 저장하기!\n",
        "                                verbose=1,\n",
        "                                save_best_only=True)\n",
        "\n",
        "## early stopping\n",
        "cb_early_stopping = EarlyStopping(monitor='val_accuracy', patience=6)"
      ]
    },
    {
      "cell_type": "code",
      "execution_count": null,
      "id": "1773d0dd-d874-4651-8ed8-976ddf4b26e0",
      "metadata": {
        "id": "1773d0dd-d874-4651-8ed8-976ddf4b26e0"
      },
      "outputs": [],
      "source": [
        "## 저장된 모델 지우기\n",
        "\n",
        "# !rm '/content/drive/MyDrive/Models/'*"
      ]
    },
    {
      "cell_type": "markdown",
      "source": [
        "## 3) 모델 학습"
      ],
      "metadata": {
        "id": "D4b_Jin4s6Im"
      },
      "id": "D4b_Jin4s6Im"
    },
    {
      "cell_type": "code",
      "execution_count": 245,
      "id": "4949f7d1-9e51-468c-b321-9ab33303c329",
      "metadata": {
        "id": "4949f7d1-9e51-468c-b321-9ab33303c329"
      },
      "outputs": [],
      "source": [
        "## 모델 컴파일\n",
        "\n",
        "model.compile(optimizer='adam', loss='binary_crossentropy', metrics=['accuracy'])"
      ]
    },
    {
      "cell_type": "code",
      "source": [
        "## 모델 학습\n",
        "\n",
        "hist = model.fit(padded, labels_train, validation_data=(valid_padded, valid_labels),\n",
        "                 epochs=100, batch_size=batch_size, callbacks=[cb_checkpoint, cb_early_stopping])"
      ],
      "metadata": {
        "colab": {
          "base_uri": "https://localhost:8080/"
        },
        "id": "n3gQlbZgF6XR",
        "outputId": "9afd1f1d-0ce0-40ae-d321-a8855c791c94"
      },
      "id": "n3gQlbZgF6XR",
      "execution_count": 247,
      "outputs": [
        {
          "output_type": "stream",
          "name": "stdout",
          "text": [
            "Epoch 1/100\n",
            "2983/2992 [============================>.] - ETA: 0s - loss: 76.7192 - accuracy: 0.4988\n",
            "Epoch 1: val_accuracy improved from -inf to 0.50223, saving model to /content/drive/MyDrive/Models/CNN-1-4.19800-0.50223.hdf5\n",
            "2992/2992 [==============================] - 17s 6ms/step - loss: 76.5070 - accuracy: 0.4989 - val_loss: 4.1980 - val_accuracy: 0.5022\n",
            "Epoch 2/100\n",
            "2984/2992 [============================>.] - ETA: 0s - loss: 3.0965 - accuracy: 0.4990\n",
            "Epoch 2: val_accuracy did not improve from 0.50223\n",
            "2992/2992 [==============================] - 16s 5ms/step - loss: 3.0915 - accuracy: 0.4989 - val_loss: 1.1810 - val_accuracy: 0.5022\n",
            "Epoch 3/100\n",
            "2991/2992 [============================>.] - ETA: 0s - loss: 1.0677 - accuracy: 0.4989\n",
            "Epoch 3: val_accuracy did not improve from 0.50223\n",
            "2992/2992 [==============================] - 18s 6ms/step - loss: 1.0676 - accuracy: 0.4989 - val_loss: 0.7231 - val_accuracy: 0.5022\n",
            "Epoch 4/100\n",
            "2991/2992 [============================>.] - ETA: 0s - loss: 0.7374 - accuracy: 0.4989\n",
            "Epoch 4: val_accuracy did not improve from 0.50223\n",
            "2992/2992 [==============================] - 16s 5ms/step - loss: 0.7374 - accuracy: 0.4989 - val_loss: 0.6993 - val_accuracy: 0.5022\n",
            "Epoch 5/100\n",
            "2991/2992 [============================>.] - ETA: 0s - loss: 0.7050 - accuracy: 0.4989\n",
            "Epoch 5: val_accuracy did not improve from 0.50223\n",
            "2992/2992 [==============================] - 13s 4ms/step - loss: 0.7050 - accuracy: 0.4989 - val_loss: 0.7002 - val_accuracy: 0.5022\n",
            "Epoch 6/100\n",
            "2984/2992 [============================>.] - ETA: 0s - loss: 0.7050 - accuracy: 0.4990\n",
            "Epoch 6: val_accuracy did not improve from 0.50223\n",
            "2992/2992 [==============================] - 12s 4ms/step - loss: 0.7050 - accuracy: 0.4989 - val_loss: 0.6997 - val_accuracy: 0.5022\n",
            "Epoch 7/100\n",
            "2992/2992 [==============================] - ETA: 0s - loss: 0.6965 - accuracy: 0.4989\n",
            "Epoch 7: val_accuracy did not improve from 0.50223\n",
            "2992/2992 [==============================] - 13s 4ms/step - loss: 0.6965 - accuracy: 0.4989 - val_loss: 0.6935 - val_accuracy: 0.5022\n"
          ]
        }
      ]
    },
    {
      "cell_type": "markdown",
      "id": "b41e7d7a-3526-4a0b-8e34-ea64d18e951c",
      "metadata": {
        "id": "b41e7d7a-3526-4a0b-8e34-ea64d18e951c"
      },
      "source": [
        "# 4. Final Results"
      ]
    },
    {
      "cell_type": "code",
      "execution_count": 231,
      "id": "b1a1b73d-c341-4973-a5b6-5fc8ab51030b",
      "metadata": {
        "id": "b1a1b73d-c341-4973-a5b6-5fc8ab51030b",
        "colab": {
          "base_uri": "https://localhost:8080/",
          "height": 279
        },
        "outputId": "3cd71be6-6d5b-4289-aac6-6dd5b7bb4cb4"
      },
      "outputs": [
        {
          "output_type": "display_data",
          "data": {
            "image/png": "[encoded data removed]",
            "text/plain": [
              "<Figure size 432x288 with 2 Axes>"
            ]
          },
          "metadata": {
            "needs_background": "light"
          }
        }
      ],
      "source": [
        "import matplotlib.pyplot as plt\n",
        "\n",
        "fig, loss_ax = plt.subplots()\n",
        "acc_ax = loss_ax.twinx()    #x를 공유\n",
        "\n",
        "# loss 그래프\n",
        "loss_ax.plot(hist.history['loss'], 'orange', label='train_loss')\n",
        "loss_ax.plot(hist.history['val_loss'], 'r', label='valid_loss')\n",
        "loss_ax.set_xlabel('epochs')\n",
        "loss_ax.set_ylabel('loss')\n",
        "loss_ax.legend(loc='lower right')\n",
        "\n",
        "# accuracy 그래프\n",
        "acc_ax.plot(hist.history['accuracy'], 'g', label='train_accuracy')\n",
        "acc_ax.plot(hist.history['val_accuracy'], 'b', label='valid_accuracy')\n",
        "acc_ax.set_xlabel('epochs')\n",
        "acc_ax.set_ylabel('accuracy')\n",
        "acc_ax.legend(loc='upper right', bbox_to_anchor=(1, 0.5))\n",
        "\n",
        "plt.show()"
      ]
    },
    {
      "cell_type": "code",
      "execution_count": null,
      "id": "0a62be35-7a2f-4c40-a225-72f00a6bc7bd",
      "metadata": {
        "id": "0a62be35-7a2f-4c40-a225-72f00a6bc7bd"
      },
      "outputs": [],
      "source": [
        ""
      ]
    },
    {
      "cell_type": "code",
      "execution_count": null,
      "id": "f1ab5b19-ac27-4851-ac9b-d3051aae695a",
      "metadata": {
        "id": "f1ab5b19-ac27-4851-ac9b-d3051aae695a"
      },
      "outputs": [],
      "source": [
        ""
      ]
    },
    {
      "cell_type": "code",
      "execution_count": null,
      "id": "07364a50-7fa0-4f85-97c5-4f669491166a",
      "metadata": {
        "id": "07364a50-7fa0-4f85-97c5-4f669491166a"
      },
      "outputs": [],
      "source": [
        ""
      ]
    }
  ],
  "metadata": {
    "kernelspec": {
      "display_name": "Python 3 (ipykernel)",
      "language": "python",
      "name": "python3"
    },
    "language_info": {
      "codemirror_mode": {
        "name": "ipython",
        "version": 3
      },
      "file_extension": ".py",
      "mimetype": "text/x-python",
      "name": "python",
      "nbconvert_exporter": "python",
      "pygments_lexer": "ipython3",
      "version": "3.7.11"
    },
    "colab": {
      "name": "CNN for Sentence Classification 논문 구현.ipynb",
      "provenance": [],
      "collapsed_sections": []
    },
    "accelerator": "GPU"
  },
  "nbformat": 4,
  "nbformat_minor": 5
}