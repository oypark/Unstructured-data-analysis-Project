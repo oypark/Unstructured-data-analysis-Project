{
 "cells": [
  {
   "cell_type": "markdown",
   "id": "865b5b5e-9697-45a0-99f7-e59b46282a46",
   "metadata": {},
   "source": [
    "## Emoji Recognition Chart - Korean Ver. Crawling\n",
    "\n",
    "* url : https://www.emojiall.com/ko/copy"
   ]
  },
  {
   "cell_type": "code",
   "execution_count": 4,
   "id": "69da558c-08c5-447b-aa47-08a402dfd1ba",
   "metadata": {},
   "outputs": [],
   "source": [
    "import requests\n",
    "from bs4 import BeautifulSoup\n",
    "# import chromedriver_binary\n",
    "from selenium import webdriver\n",
    "from selenium.webdriver.chrome.options import Options\n",
    "from selenium.webdriver.common.keys import Keys\n",
    "from selenium.webdriver.common.by import By\n",
    "from datetime import datetime, timedelta\n",
    "import time\n",
    "import pandas as pd\n",
    "import numpy as np\n",
    "import json\n",
    "import re"
   ]
  },
  {
   "cell_type": "code",
   "execution_count": 26,
   "id": "9750eae3-496e-4aa2-ac2f-89a8d7cae3ca",
   "metadata": {},
   "outputs": [
    {
     "data": {
      "text/html": [
       "<div>\n",
       "<style scoped>\n",
       "    .dataframe tbody tr th:only-of-type {\n",
       "        vertical-align: middle;\n",
       "    }\n",
       "\n",
       "    .dataframe tbody tr th {\n",
       "        vertical-align: top;\n",
       "    }\n",
       "\n",
       "    .dataframe thead th {\n",
       "        text-align: right;\n",
       "    }\n",
       "</style>\n",
       "<table border=\"1\" class=\"dataframe\">\n",
       "  <thead>\n",
       "    <tr style=\"text-align: right;\">\n",
       "      <th></th>\n",
       "      <th>0</th>\n",
       "      <th>1</th>\n",
       "      <th>2</th>\n",
       "      <th>3</th>\n",
       "    </tr>\n",
       "  </thead>\n",
       "  <tbody>\n",
       "    <tr>\n",
       "      <th>0</th>\n",
       "      <td>😀</td>\n",
       "      <td>활짝 웃는 얼굴</td>\n",
       "      <td>미소|스마일|얼굴|웃음|활짝 웃는 얼굴</td>\n",
       "      <td>None</td>\n",
       "    </tr>\n",
       "    <tr>\n",
       "      <th>1</th>\n",
       "      <td>🙃</td>\n",
       "      <td>거꾸로 된 얼굴</td>\n",
       "      <td>거꾸로 된 얼굴|뒤집힘|얼굴|위아래</td>\n",
       "      <td>None</td>\n",
       "    </tr>\n",
       "    <tr>\n",
       "      <th>2</th>\n",
       "      <td>😉</td>\n",
       "      <td>윙크하는 얼굴</td>\n",
       "      <td>얼굴|윙크|윙크하는 얼굴</td>\n",
       "      <td>None</td>\n",
       "    </tr>\n",
       "    <tr>\n",
       "      <th>3</th>\n",
       "      <td>😊</td>\n",
       "      <td>미소 짓는 눈으로 살짝 웃는 얼굴</td>\n",
       "      <td>눈웃음|미소|미소 짓는 눈으로 살짝 웃는 얼굴|스마일|얼굴|웃는 얼굴</td>\n",
       "      <td>None</td>\n",
       "    </tr>\n",
       "    <tr>\n",
       "      <th>4</th>\n",
       "      <td>😇</td>\n",
       "      <td>후광이 비치는 웃는 얼굴</td>\n",
       "      <td>미소|스마일|얼굴|웃는 얼굴|후광이 비치는 웃는 얼굴</td>\n",
       "      <td>None</td>\n",
       "    </tr>\n",
       "  </tbody>\n",
       "</table>\n",
       "</div>"
      ],
      "text/plain": [
       "   0                   1                                       2     3\n",
       "0  😀            활짝 웃는 얼굴                   미소|스마일|얼굴|웃음|활짝 웃는 얼굴  None\n",
       "1  🙃            거꾸로 된 얼굴                     거꾸로 된 얼굴|뒤집힘|얼굴|위아래  None\n",
       "2  😉             윙크하는 얼굴                           얼굴|윙크|윙크하는 얼굴  None\n",
       "3  😊  미소 짓는 눈으로 살짝 웃는 얼굴  눈웃음|미소|미소 짓는 눈으로 살짝 웃는 얼굴|스마일|얼굴|웃는 얼굴  None\n",
       "4  😇       후광이 비치는 웃는 얼굴           미소|스마일|얼굴|웃는 얼굴|후광이 비치는 웃는 얼굴  None"
      ]
     },
     "execution_count": 26,
     "metadata": {},
     "output_type": "execute_result"
    }
   ],
   "source": [
    "url = \"https://www.emojiall.com/ko/copy\"\n",
    "driver = webdriver.Chrome('chromedriver')\n",
    "driver.get(url)\n",
    "\n",
    "lis = driver.find_elements(By.CSS_SELECTOR, \"ul.copy_list.emoji_list.row.row-cols-lg-5.row-cols-4 > li\")\n",
    "driver.close()\n",
    "\n",
    "emoji_list = []\n",
    "for li in lis:\n",
    "    data = li.get_attribute('data-keyword')\n",
    "    data_filter = [i for i in data.split(\"^\") if i]\n",
    "    emoji_list.append(data_filter)\n",
    "\n",
    "emoji_df = pd.DataFrame(emoji_list)\n",
    "emoji_df.head()"
   ]
  },
  {
   "cell_type": "code",
   "execution_count": 27,
   "id": "97e97186-d8fa-4fa4-b9d7-554675f89f30",
   "metadata": {},
   "outputs": [
    {
     "data": {
      "text/html": [
       "<div>\n",
       "<style scoped>\n",
       "    .dataframe tbody tr th:only-of-type {\n",
       "        vertical-align: middle;\n",
       "    }\n",
       "\n",
       "    .dataframe tbody tr th {\n",
       "        vertical-align: top;\n",
       "    }\n",
       "\n",
       "    .dataframe thead th {\n",
       "        text-align: right;\n",
       "    }\n",
       "</style>\n",
       "<table border=\"1\" class=\"dataframe\">\n",
       "  <thead>\n",
       "    <tr style=\"text-align: right;\">\n",
       "      <th></th>\n",
       "      <th>0</th>\n",
       "      <th>1</th>\n",
       "      <th>2</th>\n",
       "      <th>3</th>\n",
       "    </tr>\n",
       "  </thead>\n",
       "  <tbody>\n",
       "    <tr>\n",
       "      <th>1811</th>\n",
       "      <td>🇿🇲</td>\n",
       "      <td>깃발: 잠비아</td>\n",
       "      <td>깃발</td>\n",
       "      <td>None</td>\n",
       "    </tr>\n",
       "    <tr>\n",
       "      <th>1812</th>\n",
       "      <td>🇿🇼</td>\n",
       "      <td>깃발: 짐바브웨</td>\n",
       "      <td>깃발</td>\n",
       "      <td>None</td>\n",
       "    </tr>\n",
       "    <tr>\n",
       "      <th>1813</th>\n",
       "      <td>🏴󠁧󠁢󠁥󠁮󠁧󠁿</td>\n",
       "      <td>깃발: 잉글랜드</td>\n",
       "      <td>깃발</td>\n",
       "      <td>None</td>\n",
       "    </tr>\n",
       "    <tr>\n",
       "      <th>1814</th>\n",
       "      <td>🏴󠁧󠁢󠁳󠁣󠁴󠁿</td>\n",
       "      <td>깃발: 스코틀랜드</td>\n",
       "      <td>깃발</td>\n",
       "      <td>None</td>\n",
       "    </tr>\n",
       "    <tr>\n",
       "      <th>1815</th>\n",
       "      <td>🏴󠁧󠁢󠁷󠁬󠁳󠁿</td>\n",
       "      <td>깃발: 웨일즈</td>\n",
       "      <td>깃발</td>\n",
       "      <td>None</td>\n",
       "    </tr>\n",
       "  </tbody>\n",
       "</table>\n",
       "</div>"
      ],
      "text/plain": [
       "            0          1   2     3\n",
       "1811       🇿🇲    깃발: 잠비아  깃발  None\n",
       "1812       🇿🇼   깃발: 짐바브웨  깃발  None\n",
       "1813  🏴󠁧󠁢󠁥󠁮󠁧󠁿   깃발: 잉글랜드  깃발  None\n",
       "1814  🏴󠁧󠁢󠁳󠁣󠁴󠁿  깃발: 스코틀랜드  깃발  None\n",
       "1815  🏴󠁧󠁢󠁷󠁬󠁳󠁿    깃발: 웨일즈  깃발  None"
      ]
     },
     "execution_count": 27,
     "metadata": {},
     "output_type": "execute_result"
    }
   ],
   "source": [
    "emoji_df.tail()"
   ]
  },
  {
   "cell_type": "code",
   "execution_count": 28,
   "id": "bf20a0f6-8e11-4ac4-9fed-214c2b743dbc",
   "metadata": {},
   "outputs": [],
   "source": [
    "emoji_df.dropna(axis=1, inplace=True)"
   ]
  },
  {
   "cell_type": "code",
   "execution_count": 30,
   "id": "9be163a3-b271-4e4f-a325-23fd9ac0f587",
   "metadata": {},
   "outputs": [],
   "source": [
    "emoji_df.columns = ['emoji', 'korean', 'expressions']"
   ]
  },
  {
   "cell_type": "code",
   "execution_count": 31,
   "id": "bb95e89c-cbc4-4b3b-b990-2c46227325dd",
   "metadata": {},
   "outputs": [
    {
     "name": "stdout",
     "output_type": "stream",
     "text": [
      "<class 'pandas.core.frame.DataFrame'>\n",
      "RangeIndex: 1816 entries, 0 to 1815\n",
      "Data columns (total 3 columns):\n",
      " #   Column       Non-Null Count  Dtype \n",
      "---  ------       --------------  ----- \n",
      " 0   emoji        1816 non-null   object\n",
      " 1   korean       1816 non-null   object\n",
      " 2   expressions  1816 non-null   object\n",
      "dtypes: object(3)\n",
      "memory usage: 42.7+ KB\n"
     ]
    }
   ],
   "source": [
    "emoji_df.info()"
   ]
  },
  {
   "cell_type": "code",
   "execution_count": 32,
   "id": "25891b60-ae90-48a4-803c-b67a93278d61",
   "metadata": {},
   "outputs": [],
   "source": [
    "emoji_df.to_csv('emoji_korean.csv', index=False, encoding=\"utf-8\")"
   ]
  },
  {
   "cell_type": "code",
   "execution_count": null,
   "id": "7032dfde-f1d3-4d7a-b77b-ae7b76032da9",
   "metadata": {},
   "outputs": [],
   "source": []
  }
 ],
 "metadata": {
  "kernelspec": {
   "display_name": "Python 3 (ipykernel)",
   "language": "python",
   "name": "python3"
  },
  "language_info": {
   "codemirror_mode": {
    "name": "ipython",
    "version": 3
   },
   "file_extension": ".py",
   "mimetype": "text/x-python",
   "name": "python",
   "nbconvert_exporter": "python",
   "pygments_lexer": "ipython3",
   "version": "3.9.7"
  }
 },
 "nbformat": 4,
 "nbformat_minor": 5
}
